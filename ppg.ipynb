{
  "cells": [
    {
      "cell_type": "markdown",
      "metadata": {
        "id": "view-in-github",
        "colab_type": "text"
      },
      "source": [
        "<a href=\"https://colab.research.google.com/github/garbage38/Myocardial-Infraction-using-PPG-signal-analysis/blob/main/ppg.ipynb\" target=\"_parent\"><img src=\"https://colab.research.google.com/assets/colab-badge.svg\" alt=\"Open In Colab\"/></a>"
      ]
    },
    {
      "cell_type": "code",
      "execution_count": null,
      "id": "123d2681-d613-4ab8-8480-d346bc0a1092",
      "metadata": {
        "id": "123d2681-d613-4ab8-8480-d346bc0a1092"
      },
      "outputs": [],
      "source": []
    },
    {
      "cell_type": "code",
      "execution_count": null,
      "id": "d762155e-998c-4a77-8811-0fb0f20c3424",
      "metadata": {
        "id": "d762155e-998c-4a77-8811-0fb0f20c3424",
        "colab": {
          "base_uri": "https://localhost:8080/"
        },
        "outputId": "11934d83-3c39-4929-d28f-52b7f946523c"
      },
      "outputs": [
        {
          "output_type": "stream",
          "name": "stderr",
          "text": [
            "/usr/local/lib/python3.11/dist-packages/keras/src/layers/convolutional/base_conv.py:107: UserWarning: Do not pass an `input_shape`/`input_dim` argument to a layer. When using Sequential models, prefer using an `Input(shape)` object as the first layer in the model instead.\n",
            "  super().__init__(activity_regularizer=activity_regularizer, **kwargs)\n"
          ]
        },
        {
          "output_type": "stream",
          "name": "stdout",
          "text": [
            "Epoch 1/20\n",
            "\u001b[1m32/32\u001b[0m \u001b[32m━━━━━━━━━━━━━━━━━━━━\u001b[0m\u001b[37m\u001b[0m \u001b[1m238s\u001b[0m 7s/step - accuracy: 0.5258 - loss: 1.0937 - val_accuracy: 0.8580 - val_loss: nan\n",
            "Epoch 2/20\n"
          ]
        }
      ],
      "source": [
        "import numpy as np\n",
        "import pandas as pd\n",
        "import matplotlib.pyplot as plt\n",
        "from sklearn.model_selection import train_test_split\n",
        "from sklearn.preprocessing import StandardScaler\n",
        "from tensorflow.keras.models import Sequential\n",
        "from tensorflow.keras.layers import Conv1D, LSTM, Dense, Dropout\n",
        "from tensorflow.keras.callbacks import EarlyStopping, ReduceLROnPlateau\n",
        "from tensorflow.keras.optimizers import Adam\n",
        "from tensorflow.keras import regularizers\n",
        "\n",
        "# Data Augmentation function\n",
        "def augment_data(X, y, noise_factor=0.02, shift_factor=0.05, scale_factor=0.1):\n",
        "    augmented_X = []\n",
        "    augmented_y = []\n",
        "\n",
        "    for i in range(len(X)):\n",
        "        signal = X[i]\n",
        "\n",
        "        # Add random noise\n",
        "        noise = np.random.normal(0, noise_factor, signal.shape)\n",
        "        augmented_signal = signal + noise\n",
        "\n",
        "        # Random time shift\n",
        "        shift = int(np.random.uniform(-shift_factor * len(signal), shift_factor * len(signal)))\n",
        "        augmented_signal = np.roll(augmented_signal, shift)\n",
        "\n",
        "        # Random scaling\n",
        "        scale = 1 + np.random.uniform(-scale_factor, scale_factor)\n",
        "        augmented_signal = augmented_signal * scale\n",
        "\n",
        "        augmented_X.append(augmented_signal)\n",
        "        augmented_y.append(y[i])\n",
        "\n",
        "    return np.array(augmented_X), np.array(augmented_y)\n",
        "\n",
        "# Load dataset\n",
        "data = pd.read_csv(r'/content/PPG_Dataset.csv')\n",
        "\n",
        "# Step 1: Preprocess the data\n",
        "X = data.iloc[:, :-1].values  # PPG signal values (0 to 1999 columns)\n",
        "y = data.iloc[:, -1].values  # Labels (last column)\n",
        "\n",
        "# Convert labels to binary (1 for MI, 0 for Normal)\n",
        "y = np.where(y == 'MI', 1, 0)\n",
        "\n",
        "# Reshape the data to have 3 dimensions: (samples, time_steps, features)\n",
        "X = X.reshape(-1, 2000, 1)  # Shape (samples, 2000, 1)\n",
        "\n",
        "# Normalize the data\n",
        "scaler = StandardScaler()\n",
        "X = np.array([scaler.fit_transform(x.reshape(-1, 1)) for x in X])  # Normalize each signal\n",
        "\n",
        "# Step 2: Split the data into training and testing sets\n",
        "X_train, X_test, y_train, y_test = train_test_split(X, y, test_size=0.2, random_state=42)\n",
        "\n",
        "# Step 3: Data Augmentation for training set\n",
        "X_train_augmented, y_train_augmented = augment_data(X_train, y_train)\n",
        "\n",
        "# Step 4: Build an adjusted model\n",
        "model = Sequential()\n",
        "\n",
        "# 1st Convolutional Layer (increased filters)\n",
        "model.add(Conv1D(64, kernel_size=5, activation='relu', input_shape=(2000, 1),\n",
        "                 kernel_regularizer=regularizers.l2(0.001)))  # L2 regularization\n",
        "model.add(Dropout(0.3))  # Increased dropout\n",
        "\n",
        "# 2nd Convolutional Layer (added another convolutional layer)\n",
        "model.add(Conv1D(128, kernel_size=5, activation='relu',\n",
        "                 kernel_regularizer=regularizers.l2(0.001)))  # L2 regularization\n",
        "model.add(Dropout(0.3))  # Dropout to prevent overfitting\n",
        "\n",
        "# LSTM Layer (increased units)\n",
        "model.add(LSTM(128, return_sequences=False, kernel_regularizer=regularizers.l2(0.001)))  # L2 regularization\n",
        "model.add(Dropout(0.4))  # Dropout\n",
        "\n",
        "# Fully Connected Dense Layer (increased units)\n",
        "model.add(Dense(128, activation='relu', kernel_regularizer=regularizers.l2(0.001)))  # L2 regularization\n",
        "model.add(Dropout(0.4))  # Dropout\n",
        "\n",
        "# Output Layer: Sigmoid activation for binary classification\n",
        "model.add(Dense(1, activation='sigmoid'))\n",
        "\n",
        "# Step 5: Compile the model\n",
        "optimizer = Adam(learning_rate=0.0003)  # Increased learning rate\n",
        "model.compile(optimizer=optimizer, loss='binary_crossentropy', metrics=['accuracy'])\n",
        "\n",
        "\n",
        "\n",
        "# Step 7: Train the model\n",
        "history = model.fit(\n",
        "    X_train_augmented, y_train_augmented,\n",
        "    epochs=20,  # Limit the number of epochs to prevent overfitting\n",
        "    batch_size=64,\n",
        "    validation_data=(X_test, y_test),\n",
        "\n",
        ")\n",
        "\n",
        "# Step 8: Evaluate the model on the test set\n",
        "test_loss, test_accuracy = model.evaluate(X_test, y_test)\n",
        "print(f\"Test Loss: {test_loss:.4f}, Test Accuracy: {test_accuracy:.4f}\")\n",
        "\n",
        "# Step 9: Plot training history (accuracy and loss)\n",
        "plt.figure(figsize=(12, 6))\n",
        "\n",
        "# Accuracy plot\n",
        "plt.subplot(1, 2, 1)\n",
        "plt.plot(history.history['accuracy'], label='Train Accuracy')\n",
        "plt.plot(history.history['val_accuracy'], label='Validation Accuracy')\n",
        "plt.title('Model Accuracy')\n",
        "plt.xlabel('Epochs')\n",
        "plt.ylabel('Accuracy')\n",
        "plt.legend()\n",
        "\n",
        "# Loss plot\n",
        "plt.subplot(1, 2, 2)\n",
        "plt.plot(history.history['loss'], label='Train Loss')\n",
        "plt.plot(history.history['val_loss'], label='Validation Loss')\n",
        "plt.title('Model Loss')\n",
        "plt.xlabel('Epochs')\n",
        "plt.ylabel('Loss')\n",
        "plt.legend()\n",
        "\n",
        "plt.tight_layout()\n",
        "plt.show()"
      ]
    },
    {
      "cell_type": "code",
      "execution_count": null,
      "id": "44c3855a-0b2c-44ab-b942-677e07bca8c7",
      "metadata": {
        "id": "44c3855a-0b2c-44ab-b942-677e07bca8c7"
      },
      "outputs": [],
      "source": []
    }
  ],
  "metadata": {
    "kernelspec": {
      "display_name": "Python 3 (ipykernel)",
      "language": "python",
      "name": "python3"
    },
    "language_info": {
      "codemirror_mode": {
        "name": "ipython",
        "version": 3
      },
      "file_extension": ".py",
      "mimetype": "text/x-python",
      "name": "python",
      "nbconvert_exporter": "python",
      "pygments_lexer": "ipython3",
      "version": "3.11.1"
    },
    "colab": {
      "provenance": [],
      "include_colab_link": true
    }
  },
  "nbformat": 4,
  "nbformat_minor": 5
}